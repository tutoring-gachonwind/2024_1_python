{
 "cells": [
  {
   "cell_type": "markdown",
   "id": "03f1dc68",
   "metadata": {},
   "source": [
    "### topic3_2 : 파이썬 튜터링 3주차 - 2\n",
    "#### 미니프로젝트 7. 베스킨라빈스 31"
   ]
  },
  {
   "cell_type": "markdown",
   "id": "50082d94",
   "metadata": {},
   "source": [
    "----"
   ]
  },
  {
   "cell_type": "markdown",
   "id": "84e57889",
   "metadata": {},
   "source": [
    "**pseudo code**\n",
    "\n",
    "- 순서 정함 : 컴퓨터가 먼저냐? 내가 먼저냐?\n",
    "- 무한반복\n",
    "    - 어느 누구 하나가 30을 말한다\n",
    "        - 게임 종료. 30을 말한 사람의 다음 사람이 짐. \n",
    "        \n",
    "    - 내가 말함\n",
    "        \n",
    "    - 컴퓨터가 랜덤함수를 이용해서 1~3 중에 고름\n",
    "    - 컴퓨터가 고른 수만큼 수를 말함"
   ]
  },
  {
   "cell_type": "code",
   "execution_count": 3,
   "id": "4ee1cdf9",
   "metadata": {
    "ExecuteTime": {
     "end_time": "2024-03-28T15:22:04.650789Z",
     "start_time": "2024-03-28T15:22:04.648339Z"
    }
   },
   "outputs": [],
   "source": [
    "import random"
   ]
  },
  {
   "cell_type": "code",
   "execution_count": 5,
   "id": "be2225ee",
   "metadata": {
    "ExecuteTime": {
     "end_time": "2024-03-28T15:22:10.011347Z",
     "start_time": "2024-03-28T15:22:08.369829Z"
    }
   },
   "outputs": [
    {
     "name": "stdout",
     "output_type": "stream",
     "text": [
      "컴퓨터가 먼저 하겠습니까? 내가 먼저 하겠습니까? : 나\n",
      "1\n"
     ]
    }
   ],
   "source": [
    "procedure = input (\"컴퓨터가 먼저 하겠습니까? 내가 먼저 하겠습니까? : \")\n",
    "token = 0 # 0 : 컴퓨터가 먼저 / 1 : 내가 먼저\n",
    "\n",
    "match (procedure) :\n",
    "    case '컴퓨터' :\n",
    "        token = 0\n",
    "        \n",
    "    case '나' : \n",
    "        token = 1 \n",
    "        \n",
    "print (token)"
   ]
  },
  {
   "cell_type": "code",
   "execution_count": 6,
   "id": "3bffa3e0",
   "metadata": {
    "ExecuteTime": {
     "end_time": "2024-03-28T15:22:34.465887Z",
     "start_time": "2024-03-28T15:22:11.072471Z"
    }
   },
   "outputs": [
    {
     "name": "stdout",
     "output_type": "stream",
     "text": [
      "내 차례입니다\n",
      "3\n",
      "1\n",
      "2\n",
      "3\n",
      "컴퓨터 차례입니다\n",
      "4\n",
      "5\n",
      "내 차례입니다\n",
      "3\n",
      "6\n",
      "7\n",
      "8\n",
      "컴퓨터 차례입니다\n",
      "9\n",
      "10\n",
      "11\n",
      "내 차례입니다\n",
      "2\n",
      "12\n",
      "13\n",
      "컴퓨터 차례입니다\n",
      "14\n",
      "내 차례입니다\n",
      "3\n",
      "15\n",
      "16\n",
      "17\n",
      "컴퓨터 차례입니다\n",
      "18\n",
      "19\n",
      "내 차례입니다\n",
      "3\n",
      "20\n",
      "21\n",
      "22\n",
      "컴퓨터 차례입니다\n",
      "23\n",
      "24\n",
      "내 차례입니다\n",
      "3\n",
      "25\n",
      "26\n",
      "27\n",
      "컴퓨터 차례입니다\n",
      "28\n",
      "29\n",
      "내 차례입니다\n",
      "1\n",
      "30\n",
      "당신의 승리. 컴퓨터의 패배\n"
     ]
    }
   ],
   "source": [
    "present = 0\n",
    "\n",
    "if token == 0 : # 컴퓨터가 먼저\n",
    "    while True : \n",
    "        print (\"컴퓨터 차례입니다\")\n",
    "        com = random.randint(1, 3)\n",
    "        \n",
    "        for i in range (com) :\n",
    "            present += 1\n",
    "            print (present)\n",
    "        \n",
    "        if present == 30 : \n",
    "            print (\"컴퓨터의 승리. 당신의 패배\")\n",
    "            break\n",
    "            \n",
    "        print (\"내 차례입니다\")\n",
    "        num = int(input())\n",
    "        \n",
    "        for i in range (num) :\n",
    "            present += 1\n",
    "            print (present)\n",
    "        \n",
    "        if present == 30 : \n",
    "            print (\"당신의 승리. 컴퓨터의 패배\")\n",
    "            break\n",
    "            \n",
    "\n",
    "elif token == 1 : \n",
    "    while True : \n",
    "        print (\"내 차례입니다\")\n",
    "        num = int(input())\n",
    "        \n",
    "        for i in range (num) :\n",
    "            present += 1\n",
    "            print (present)\n",
    "        \n",
    "        if present == 30 : \n",
    "            print (\"당신의 승리. 컴퓨터의 패배\")\n",
    "            break\n",
    "            \n",
    "        print (\"컴퓨터 차례입니다\")\n",
    "        com = random.randint(1, 3)\n",
    "        \n",
    "        for i in range (com) :\n",
    "            present += 1\n",
    "            print (present)\n",
    "        \n",
    "        if present == 30 : \n",
    "            print (\"컴퓨터의 승리. 당신의 패배\")\n",
    "            break"
   ]
  }
 ],
 "metadata": {
  "kernelspec": {
   "display_name": "Python 3 (ipykernel)",
   "language": "python",
   "name": "python3"
  },
  "language_info": {
   "codemirror_mode": {
    "name": "ipython",
    "version": 3
   },
   "file_extension": ".py",
   "mimetype": "text/x-python",
   "name": "python",
   "nbconvert_exporter": "python",
   "pygments_lexer": "ipython3",
   "version": "3.11.6"
  }
 },
 "nbformat": 4,
 "nbformat_minor": 5
}
