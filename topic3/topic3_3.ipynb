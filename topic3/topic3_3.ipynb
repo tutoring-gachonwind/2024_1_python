{
 "cells": [
  {
   "cell_type": "markdown",
   "id": "03f1dc68",
   "metadata": {},
   "source": [
    "### topic3_3 : 파이썬 튜터링 3주차 - 3\n",
    "#### 미니프로젝트 8. 소수 판별 및 에라스토테네스의 체"
   ]
  },
  {
   "cell_type": "markdown",
   "id": "ee4d4330",
   "metadata": {},
   "source": [
    "------"
   ]
  },
  {
   "cell_type": "markdown",
   "id": "69b8484e",
   "metadata": {},
   "source": [
    "###### 소수\n",
    "\n",
    "자연수 : 1, 2, 3, 4, 5...\n",
    "1) 소수 : 자연수인데, 약수의 갯수가 2개\n",
    "2) 합성수 : 자연수인데, 약수의 갯수가 3개 이상\n",
    "3) 1 : 소수도 합성수도 아님 (약수를 가지고 있지 않아서)"
   ]
  },
  {
   "cell_type": "markdown",
   "id": "802a5f65",
   "metadata": {},
   "source": [
    "-----"
   ]
  },
  {
   "cell_type": "markdown",
   "id": "37259309",
   "metadata": {},
   "source": [
    "#### 소수 판별 프로그램\n",
    "###### pseudo code\n",
    "\n",
    "- 소수인지, 합성수인지 판단하고 싶은 숫자를 입력\n",
    "- N == 3, 1~3 -> 나누어떨어지는 숫자를 약수 리스트에 저장\n",
    "- 리스트에 있는 약수의 갯수를 셈\n",
    "- 약수의 갯수가 만약 2 -> 소수\n",
    "- 약수의 갯수가 2보다 크다 -> 합성수\n",
    "- 입력받은 데이터가 1 -> 1"
   ]
  },
  {
   "cell_type": "code",
   "execution_count": 15,
   "id": "f9dfc040",
   "metadata": {
    "ExecuteTime": {
     "end_time": "2024-03-29T11:13:52.152522Z",
     "start_time": "2024-03-29T11:13:48.482083Z"
    }
   },
   "outputs": [
    {
     "name": "stdout",
     "output_type": "stream",
     "text": [
      "소수인지 합성수인지 판단하고 싶은 숫자를 입력하세요 : 100000\n"
     ]
    }
   ],
   "source": [
    "N = int(input(\"소수인지 합성수인지 판단하고 싶은 숫자를 입력하세요 : \"))"
   ]
  },
  {
   "cell_type": "code",
   "execution_count": 16,
   "id": "4a37dc7c",
   "metadata": {
    "ExecuteTime": {
     "end_time": "2024-03-29T11:13:53.252551Z",
     "start_time": "2024-03-29T11:13:53.233906Z"
    }
   },
   "outputs": [
    {
     "name": "stdout",
     "output_type": "stream",
     "text": [
      "약수 목록 :  [1, 2, 4, 5, 8, 10, 16, 20, 25, 32, 40, 50, 80, 100, 125, 160, 200, 250, 400, 500, 625, 800, 1000, 1250, 2000, 2500, 3125, 4000, 5000, 6250, 10000, 12500, 20000, 25000, 50000, 100000]\n"
     ]
    }
   ],
   "source": [
    "divider = []\n",
    "\n",
    "for i in range (N) :\n",
    "    if (N % (i + 1) == 0) :\n",
    "        divider.append (i + 1)\n",
    "        \n",
    "    else :\n",
    "        pass\n",
    "    \n",
    "print (\"약수 목록 : \", divider)"
   ]
  },
  {
   "cell_type": "code",
   "execution_count": 17,
   "id": "5013017d",
   "metadata": {
    "ExecuteTime": {
     "end_time": "2024-03-29T11:13:55.997757Z",
     "start_time": "2024-03-29T11:13:55.994449Z"
    }
   },
   "outputs": [
    {
     "name": "stdout",
     "output_type": "stream",
     "text": [
      "합성수입니다\n"
     ]
    }
   ],
   "source": [
    "if (len(divider) == 2) :\n",
    "    print (\"소수입니다\")\n",
    "\n",
    "elif (len(divider) >= 3) :\n",
    "    print (\"합성수입니다\")\n",
    "\n",
    "elif (N == 1) :\n",
    "    print (\"소수도 합성수도 아닙니다\")"
   ]
  },
  {
   "cell_type": "markdown",
   "id": "7e6845ea",
   "metadata": {},
   "source": [
    "------"
   ]
  },
  {
   "cell_type": "markdown",
   "id": "156ec804",
   "metadata": {},
   "source": [
    "2부터 n까지의 숫자중에서 에라토스테네스의 체로 소수를 찾으려면, 2부터 시작해 n까지의 자연수를 차례로 쓴다. (2, 3, 4, ..., n)  \n",
    "그리고 2 이외의 2의 배수를 지운다(p=2). 이때 2가 최초의 소수가 된다.  \n",
    "그 다음 소수인 3을 제외한 3의 배수를 지운다(p=3).  \n",
    "이 방법을 다음에 지울 소수, 즉 p의 제곱이 n 보다 커질 때까지, 이 방법을 계속한다(p2≥n).  \n",
    "[네이버 지식백과] 에라토스테네스의 체 [Eratosthenes' sieve] (두산백과 두피디아, 두산백과)  "
   ]
  },
  {
   "cell_type": "code",
   "execution_count": 23,
   "id": "a590cd96",
   "metadata": {
    "ExecuteTime": {
     "end_time": "2024-03-29T11:19:51.450860Z",
     "start_time": "2024-03-29T11:19:49.795549Z"
    }
   },
   "outputs": [
    {
     "name": "stdout",
     "output_type": "stream",
     "text": [
      "시작 지점은 2입니다. 마지막 지점을 뭘로 하시겠습니까? :50\n"
     ]
    }
   ],
   "source": [
    "# 시작 지점 : 2\n",
    "n = int(input(\"시작 지점은 2입니다. 마지막 지점을 뭘로 하시겠습니까? :\"))"
   ]
  },
  {
   "cell_type": "code",
   "execution_count": 24,
   "id": "61742016",
   "metadata": {
    "ExecuteTime": {
     "end_time": "2024-03-29T11:19:51.798753Z",
     "start_time": "2024-03-29T11:19:51.795537Z"
    }
   },
   "outputs": [
    {
     "name": "stdout",
     "output_type": "stream",
     "text": [
      "[2, 3, 4, 5, 6, 7, 8, 9, 10, 11, 12, 13, 14, 15, 16, 17, 18, 19, 20, 21, 22, 23, 24, 25, 26, 27, 28, 29, 30, 31, 32, 33, 34, 35, 36, 37, 38, 39, 40, 41, 42, 43, 44, 45, 46, 47, 48, 49, 50]\n"
     ]
    }
   ],
   "source": [
    "numlst = []\n",
    "\n",
    "for i in range (2, n+1) :\n",
    "    numlst.append (i)\n",
    "    \n",
    "print (numlst)"
   ]
  },
  {
   "cell_type": "code",
   "execution_count": null,
   "id": "9ca4094e",
   "metadata": {},
   "outputs": [],
   "source": [
    "import sys\n",
    "import math\n",
    "\n",
    "def eratosthenes (M, N) :\n",
    "    nums = [0 for i in range (N + 1)]\n",
    "    nums.insert(0, 1)\n",
    "\n",
    "    for i in range (2, int(math.sqrt(N) + 1)) : # 0, 1은 소수 아님\n",
    "        if nums[i] == 0 :\n",
    "            for j in range (i + i, N + 1, i) :\n",
    "                nums[j] = 1\n",
    "\n",
    "    return nums[M : ]"
   ]
  },
  {
   "cell_type": "markdown",
   "id": "e741e33a",
   "metadata": {},
   "source": [
    "-----"
   ]
  },
  {
   "cell_type": "markdown",
   "id": "f18a2a55",
   "metadata": {},
   "source": [
    "#### 효율성, 효율도\n",
    "- 컴퓨터의 하드웨어 자원은 한정적\n",
    "    - 1) 시간 : 시간 복잡도 (time complexity) : 반복문의 중첩 여부\n",
    "    - 2) 메모리 (저장공간) : 메모리 복잡도 (memory complexity) : 변수, 자료구조를 누가 더 사용하는가\n",
    "    \n",
    "    -> 시간복잡도가 적고, 메모리 복잡도가 적은 알고리즘을 지닌 프로그램\n",
    "    "
   ]
  },
  {
   "cell_type": "markdown",
   "id": "46d2b066",
   "metadata": {},
   "source": [
    "#### 오버플로우\n",
    "- 특정 크기가 고정된 자료구조에 크기가 초과된 상태\n",
    "- pure data가 오버플로우된 자료구조 영역에 채워짐"
   ]
  },
  {
   "cell_type": "markdown",
   "id": "924ca892",
   "metadata": {},
   "source": [
    "#### 그리디\n",
    "- 최대한 효율적으로, 최대한 간편하게, 최대한 간결하게\n",
    "- 시간복잡도, 메모리복잡도\n",
    "- 공식, 알고리즘"
   ]
  },
  {
   "cell_type": "code",
   "execution_count": 25,
   "id": "5f619f1b",
   "metadata": {
    "ExecuteTime": {
     "end_time": "2024-03-29T11:55:14.266301Z",
     "start_time": "2024-03-29T11:55:14.262732Z"
    }
   },
   "outputs": [
    {
     "name": "stdout",
     "output_type": "stream",
     "text": [
      "55\n"
     ]
    }
   ],
   "source": [
    "n = 1\n",
    "suma = 0\n",
    "\n",
    "for i in range (10) :\n",
    "    suma += n\n",
    "    n += 1\n",
    "    \n",
    "print (suma)"
   ]
  },
  {
   "cell_type": "code",
   "execution_count": 26,
   "id": "e0a919af",
   "metadata": {
    "ExecuteTime": {
     "end_time": "2024-03-29T11:55:59.433044Z",
     "start_time": "2024-03-29T11:55:59.429957Z"
    }
   },
   "outputs": [
    {
     "name": "stdout",
     "output_type": "stream",
     "text": [
      "55.0\n"
     ]
    }
   ],
   "source": [
    "n = 10\n",
    "print (n*(n+1) / 2)"
   ]
  },
  {
   "cell_type": "code",
   "execution_count": null,
   "id": "9ce1af54",
   "metadata": {},
   "outputs": [],
   "source": [
    "arr[3]= []\n",
    "\n",
    "for i in range (4) :\n",
    "    arr.append (1)"
   ]
  }
 ],
 "metadata": {
  "kernelspec": {
   "display_name": "Python 3 (ipykernel)",
   "language": "python",
   "name": "python3"
  },
  "language_info": {
   "codemirror_mode": {
    "name": "ipython",
    "version": 3
   },
   "file_extension": ".py",
   "mimetype": "text/x-python",
   "name": "python",
   "nbconvert_exporter": "python",
   "pygments_lexer": "ipython3",
   "version": "3.11.6"
  }
 },
 "nbformat": 4,
 "nbformat_minor": 5
}
