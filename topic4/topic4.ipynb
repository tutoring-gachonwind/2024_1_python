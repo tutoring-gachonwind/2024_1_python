{
 "cells": [
  {
   "cell_type": "markdown",
   "id": "03f1dc68",
   "metadata": {},
   "source": [
    "### topic4_1 : 파이썬 튜터링 4주차\n",
    "#### OOP 개념"
   ]
  },
  {
   "cell_type": "markdown",
   "id": "b4158d92",
   "metadata": {},
   "source": [
    "### 객체 지향"
   ]
  },
  {
   "cell_type": "markdown",
   "id": "714e3440",
   "metadata": {},
   "source": [
    "- 언어 X, 프로그래밍 방법론\n",
    "    - 절차적 프로그래밍 : 절차적으로 프로그래밍 (한줄한줄씩 시행)\n",
    "        - tightly coupled\n",
    "    - 객체지향 프로그래밍 : 데이터 중심으로 프로그래밍\n",
    "        - loosly coupled\n",
    "    - 함수적 프로그래밍\n",
    "        - 한 기능을 모듈로 묶어서 처리\n",
    "        - 가시적으로 보기 좋음"
   ]
  },
  {
   "cell_type": "markdown",
   "id": "f7820654",
   "metadata": {},
   "source": [
    "아메리카 : 자바스크립트, 파이썬, 자바  \n",
    "아시아 (대한민국, 일본) : 자바, 파이썬  \n",
    "아프리카 : C++, ....\n",
    "\n",
    "C, C++, Java, Python, Javascript "
   ]
  },
  {
   "cell_type": "markdown",
   "id": "a9c90d68",
   "metadata": {},
   "source": [
    "인공지능, 데이터 과학, 수학, 웹 (SNS), 그래픽 ..."
   ]
  },
  {
   "cell_type": "markdown",
   "id": "e655ac41",
   "metadata": {},
   "source": [
    "### 객체 (Object)\n",
    "- 모든 것이 객체\n",
    "- 객체 : 성질을 가지고 있는 것들\n",
    "- 속성 (어트리뷰트), 기능 (매소드)"
   ]
  },
  {
   "cell_type": "markdown",
   "id": "0de3cfa4",
   "metadata": {},
   "source": [
    "### 클래스 (Class)\n",
    "- 객체를 정의하는 일종의 기계 \n",
    "- 클래스로 만든 객체 : instance\n",
    "- 객체의 속성, 기능을 class에서 정의"
   ]
  },
  {
   "cell_type": "code",
   "execution_count": 10,
   "id": "b188a29e",
   "metadata": {
    "ExecuteTime": {
     "end_time": "2024-04-06T11:50:57.166513Z",
     "start_time": "2024-04-06T11:50:57.161924Z"
    },
    "scrolled": false
   },
   "outputs": [
    {
     "name": "stdout",
     "output_type": "stream",
     "text": [
      "lky\n",
      "21\n",
      "0406\n",
      "lky\n",
      "lky\n"
     ]
    }
   ],
   "source": [
    "class Doll (object) : \n",
    "    name = \"lky\"\n",
    "    age = \"21\"\n",
    "    date = \"0406\"\n",
    "    \n",
    "    def print_name (self) :\n",
    "        print (self.name)\n",
    "    \n",
    "doll1 = Doll()\n",
    "print (doll1.name) # . : ~의\n",
    "print (doll1.age)\n",
    "print (doll1.date)\n",
    "\n",
    "doll2 = Doll()\n",
    "print (doll2.name)\n",
    "doll2.print_name()"
   ]
  },
  {
   "cell_type": "markdown",
   "id": "9ca53141",
   "metadata": {},
   "source": [
    "### 인스턴스 속성"
   ]
  },
  {
   "cell_type": "markdown",
   "id": "9cb30862",
   "metadata": {},
   "source": [
    "- 객체로부터 인스턴스가 생성"
   ]
  },
  {
   "cell_type": "code",
   "execution_count": 13,
   "id": "cd8a2f83",
   "metadata": {
    "ExecuteTime": {
     "end_time": "2024-04-06T11:53:59.617310Z",
     "start_time": "2024-04-06T11:53:59.613105Z"
    }
   },
   "outputs": [
    {
     "name": "stdout",
     "output_type": "stream",
     "text": [
      "C언어 이론과 실제 100\n",
      "노인과 바다 10\n"
     ]
    }
   ],
   "source": [
    "class Book(object) :\n",
    "    name = \"\"\n",
    "    age = \"\"\n",
    "    \n",
    "book1 = Book()\n",
    "book1.name = \"C언어 이론과 실제\"\n",
    "book1.age = \"100\"\n",
    "\n",
    "print (book1.name, book1.age)\n",
    "\n",
    "book2 = Book()\n",
    "book2.name = \"노인과 바다\"\n",
    "book2.age = 10\n",
    "\n",
    "print (book2.name, book2.age)"
   ]
  },
  {
   "cell_type": "markdown",
   "id": "ca3031aa",
   "metadata": {},
   "source": [
    "### 클래스 매직 메소드"
   ]
  },
  {
   "cell_type": "markdown",
   "id": "95750692",
   "metadata": {},
   "source": [
    "- 클래스 내에서 초기화, 다양한 상황에서의 대처 등을 정의\n",
    "- __ ~~ __()\n",
    "- ********************** __init__()\n",
    "- __str__()\n",
    "- __items()"
   ]
  },
  {
   "cell_type": "code",
   "execution_count": 18,
   "id": "7b85f205",
   "metadata": {
    "ExecuteTime": {
     "end_time": "2024-04-06T12:01:03.572303Z",
     "start_time": "2024-04-06T12:01:03.568194Z"
    }
   },
   "outputs": [
    {
     "name": "stdout",
     "output_type": "stream",
     "text": [
      "lky 21\n"
     ]
    }
   ],
   "source": [
    "class Man(object) :\n",
    "#     name = \"\"\n",
    "#     age = \"\"\n",
    "    \n",
    "    def __init__ (self, name, age) :\n",
    "        self.name = name\n",
    "        self.age = age\n",
    "    \n",
    "    def print_info (self) :\n",
    "        print (self.name, self.age)\n",
    "        \n",
    "lky = Man(\"lky\", 21)\n",
    "# lky.name = \"lky\"\n",
    "# lky.age = \"21\"\n",
    "\n",
    "lky.print_info()"
   ]
  },
  {
   "cell_type": "code",
   "execution_count": 24,
   "id": "7700d7c9",
   "metadata": {
    "ExecuteTime": {
     "end_time": "2024-04-06T12:06:02.364322Z",
     "start_time": "2024-04-06T12:06:02.359647Z"
    }
   },
   "outputs": [
    {
     "name": "stdout",
     "output_type": "stream",
     "text": [
      "100 50\n",
      "101 50\n",
      "hp, xp : 101, 50\n"
     ]
    }
   ],
   "source": [
    "class Player (object) :\n",
    "    def __init__ (self, hp, xp) :\n",
    "        self.hp = hp\n",
    "        self.xp = xp\n",
    "        \n",
    "    def print_info (self) :\n",
    "        print (self.hp, self.xp)\n",
    "        \n",
    "    def heal (self) :\n",
    "        self.hp += 1\n",
    "        \n",
    "    def __str__ (self) :\n",
    "        return \"hp, xp : \" + str(self.hp) + ', ' + str(self.xp)\n",
    "        \n",
    "p1 = Player (100, 50)\n",
    "p1.print_info()\n",
    "p1.heal()\n",
    "p1.print_info()\n",
    "print (p1)"
   ]
  },
  {
   "cell_type": "markdown",
   "id": "99e071a4",
   "metadata": {},
   "source": [
    "- 은닉\n",
    "- 속성, 매소드를 숨김\n",
    "- __items"
   ]
  },
  {
   "cell_type": "code",
   "execution_count": 29,
   "id": "18710710",
   "metadata": {
    "ExecuteTime": {
     "end_time": "2024-04-06T12:10:06.135754Z",
     "start_time": "2024-04-06T12:10:06.116983Z"
    }
   },
   "outputs": [
    {
     "name": "stdout",
     "output_type": "stream",
     "text": [
      "b1\n"
     ]
    },
    {
     "ename": "AttributeError",
     "evalue": "'Box' object has no attribute 'items'",
     "output_type": "error",
     "traceback": [
      "\u001b[0;31m---------------------------------------------------------------------------\u001b[0m",
      "\u001b[0;31mAttributeError\u001b[0m                            Traceback (most recent call last)",
      "Cell \u001b[0;32mIn[29], line 13\u001b[0m\n\u001b[1;32m     10\u001b[0m \u001b[38;5;28mprint\u001b[39m (b1\u001b[38;5;241m.\u001b[39mname)\n\u001b[1;32m     12\u001b[0m b1\u001b[38;5;241m.\u001b[39madd_item (\u001b[38;5;241m10\u001b[39m)\n\u001b[0;32m---> 13\u001b[0m \u001b[38;5;28mprint\u001b[39m (\u001b[43mb1\u001b[49m\u001b[38;5;241;43m.\u001b[39;49m\u001b[43mitems\u001b[49m)\n",
      "\u001b[0;31mAttributeError\u001b[0m: 'Box' object has no attribute 'items'"
     ]
    }
   ],
   "source": [
    "class Box (object) :\n",
    "    def __init__ (self, name) :\n",
    "        self.name = name\n",
    "        self.__items = [] # 외부에서 접근이 불가능한 애\n",
    "        \n",
    "    def add_item (self, item) :\n",
    "        self.__items.append (item)\n",
    "\n",
    "b1 = Box(\"b1\")\n",
    "print (b1.name)\n",
    "\n",
    "b1.add_item (10)\n",
    "print (b1.items)"
   ]
  },
  {
   "cell_type": "code",
   "execution_count": 3,
   "id": "9db170e1",
   "metadata": {
    "ExecuteTime": {
     "end_time": "2024-04-06T11:37:22.176299Z",
     "start_time": "2024-04-06T11:37:22.171955Z"
    }
   },
   "outputs": [
    {
     "name": "stdout",
     "output_type": "stream",
     "text": [
      "시작합니다\n",
      "1\n",
      "2\n",
      "3\n",
      "시작합니다\n",
      "3\n",
      "2\n",
      "1\n"
     ]
    }
   ],
   "source": [
    "def 오름차순() :\n",
    "    print (\"시작합니다\")\n",
    "    print (\"1\")\n",
    "    print (\"2\")\n",
    "    print (\"3\")\n",
    "\n",
    "def 내림차순() :\n",
    "    print (\"시작합니다\")\n",
    "    print (\"3\")\n",
    "    print (\"2\")\n",
    "    print (\"1\")\n",
    "    \n",
    "오름차순()\n",
    "내림차순()"
   ]
  },
  {
   "cell_type": "code",
   "execution_count": null,
   "id": "06160064",
   "metadata": {},
   "outputs": [],
   "source": []
  }
 ],
 "metadata": {
  "kernelspec": {
   "display_name": "Python 3 (ipykernel)",
   "language": "python",
   "name": "python3"
  },
  "language_info": {
   "codemirror_mode": {
    "name": "ipython",
    "version": 3
   },
   "file_extension": ".py",
   "mimetype": "text/x-python",
   "name": "python",
   "nbconvert_exporter": "python",
   "pygments_lexer": "ipython3",
   "version": "3.11.6"
  }
 },
 "nbformat": 4,
 "nbformat_minor": 5
}
