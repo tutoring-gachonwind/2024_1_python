{
 "cells": [
  {
   "cell_type": "markdown",
   "id": "03f1dc68",
   "metadata": {},
   "source": [
    "### topic2_4 : 파이썬 튜터링 2주차 - 4\n",
    "#### 미니프로젝트 3. 정n각형 출력기"
   ]
  },
  {
   "cell_type": "markdown",
   "id": "e923e34b",
   "metadata": {},
   "source": [
    "------"
   ]
  },
  {
   "cell_type": "markdown",
   "id": "0cf2c758",
   "metadata": {},
   "source": [
    "##### pseudo code\n",
    "\n",
    "- 각의 갯수, 변의 길이\n",
    "- 정n각형 그리기\n",
    "    - 각의 갯수만큼 반복\n",
    "        - 직진\n",
    "        - 방향 change\n",
    "        \n",
    "라이브러리\n",
    "- 표준 라이브러리 : 파이썬에서 기본적으로 제공하고 있는 라이브러리 (turtle, random, os, sys, math)\n",
    "- 사용자 라이브러리 : 파이썬을 이용해서 다른 이용자가 만든 라이브러리 (tensorflow, d3, mediapipe)"
   ]
  },
  {
   "cell_type": "code",
   "execution_count": 1,
   "id": "3e5e8f70",
   "metadata": {
    "ExecuteTime": {
     "end_time": "2024-03-24T06:24:18.289642Z",
     "start_time": "2024-03-24T06:24:13.362406Z"
    }
   },
   "outputs": [
    {
     "name": "stdout",
     "output_type": "stream",
     "text": [
      "각의 갯수를 입력 : 4\n",
      "변의 길이 : 70\n"
     ]
    }
   ],
   "source": [
    "num_angle = int(input(\"각의 갯수를 입력 : \"))\n",
    "length = int(input(\"변의 길이 : \"))\n",
    "선의 색깔을 입력"
   ]
  },
  {
   "cell_type": "code",
   "execution_count": 2,
   "id": "be5072ba",
   "metadata": {
    "ExecuteTime": {
     "end_time": "2024-03-24T06:24:18.981214Z",
     "start_time": "2024-03-24T06:24:18.888371Z"
    }
   },
   "outputs": [],
   "source": [
    "import turtle"
   ]
  },
  {
   "cell_type": "code",
   "execution_count": 3,
   "id": "caddb1c1",
   "metadata": {
    "ExecuteTime": {
     "end_time": "2024-03-24T06:24:21.095615Z",
     "start_time": "2024-03-24T06:24:19.371253Z"
    }
   },
   "outputs": [
    {
     "name": "stderr",
     "output_type": "stream",
     "text": [
      "2024-03-24 15:24:19.492 Python[42847:2937904] WARNING: Secure coding is not enabled for restorable state! Enable secure coding by implementing NSApplicationDelegate.applicationSupportsSecureRestorableState: and returning YES.\n"
     ]
    }
   ],
   "source": [
    "for i in range (num_angle) :\n",
    "    turtle.forward(length)\n",
    "    turtle.left(360 / num_angle) \n",
    "    선의 색깔대로 직선 그림"
   ]
  },
  {
   "cell_type": "markdown",
   "id": "7a8d1fff",
   "metadata": {},
   "source": [
    "--------"
   ]
  },
  {
   "cell_type": "markdown",
   "id": "0b28934b",
   "metadata": {},
   "source": [
    "- 선의 색깔을 지정 (black, blue, red, green)\n",
    "- 거북이 -> 화살표 / 화살표 -> 거북이\n",
    "- n각형 그린 후 선의 색깔대로 안을 채우기\n",
    "- 각의 갯수, 변의 길이, 선의 색깔에 모두 0을 입력할 시에\n",
    "    - 반지름의 길이를 물어보는 입력\n",
    "    - 원"
   ]
  }
 ],
 "metadata": {
  "kernelspec": {
   "display_name": "Python 3 (ipykernel)",
   "language": "python",
   "name": "python3"
  },
  "language_info": {
   "codemirror_mode": {
    "name": "ipython",
    "version": 3
   },
   "file_extension": ".py",
   "mimetype": "text/x-python",
   "name": "python",
   "nbconvert_exporter": "python",
   "pygments_lexer": "ipython3",
   "version": "3.11.6"
  }
 },
 "nbformat": 4,
 "nbformat_minor": 5
}
