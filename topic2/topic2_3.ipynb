{
 "cells": [
  {
   "cell_type": "markdown",
   "id": "dbaf7bfd",
   "metadata": {},
   "source": [
    "### topic2_3 : 파이썬 튜터링 2주차 - 3\n",
    "### 미니프로젝트 2. up and down"
   ]
  },
  {
   "cell_type": "markdown",
   "id": "6c21a8eb",
   "metadata": {},
   "source": [
    "-------"
   ]
  },
  {
   "cell_type": "markdown",
   "id": "10a82ea8",
   "metadata": {},
   "source": [
    "#### pseudo code\n",
    "\n",
    "- 1 ~ 100까지 수 중에서 컴퓨터가 하나의 수를 고름 == com\n",
    "    - 만약 n이 사용자가 말한 숫자보다 크다 : up\n",
    "    - 만약 n이 사용자가 말한 숫자보다 작다 : down\n",
    "    - 만약 n이 사용자가 말한 숫자랑 같다 : same, win\n",
    "    - 물어보는 횟수를 전부 다 소진 : lose"
   ]
  },
  {
   "cell_type": "markdown",
   "id": "4cc2f95d",
   "metadata": {},
   "source": [
    "##### 라이브러리\n",
    "- 명령어의 확장판\n",
    "- 다양한 기능의 명령어를 사용할 수 있는 서류\n",
    "    - math : math.log, math.sqrt, math.arccos...\n",
    "    - random : randint, randrange...\n",
    "    \n",
    "- 사용자 라이브러리 : 사용자가 직접 만든 라이브러리 \n",
    "- 내장 라이브러리 : 파이썬이 지원하는 라이브러리"
   ]
  },
  {
   "cell_type": "code",
   "execution_count": 1,
   "id": "13ac3364",
   "metadata": {
    "ExecuteTime": {
     "end_time": "2024-03-23T15:01:14.143639Z",
     "start_time": "2024-03-23T15:01:14.137098Z"
    }
   },
   "outputs": [],
   "source": [
    "import random"
   ]
  },
  {
   "cell_type": "code",
   "execution_count": 2,
   "id": "b433cf32",
   "metadata": {
    "ExecuteTime": {
     "end_time": "2024-03-23T15:01:14.809814Z",
     "start_time": "2024-03-23T15:01:14.807190Z"
    }
   },
   "outputs": [],
   "source": [
    "com = random.randint(1, 100)"
   ]
  },
  {
   "cell_type": "code",
   "execution_count": 3,
   "id": "9de91618",
   "metadata": {
    "ExecuteTime": {
     "end_time": "2024-03-23T15:01:20.736569Z",
     "start_time": "2024-03-23T15:01:18.087746Z"
    }
   },
   "outputs": [
    {
     "name": "stdout",
     "output_type": "stream",
     "text": [
      "기회의 수 : 10\n"
     ]
    }
   ],
   "source": [
    "chance = int(input(\"기회의 수 : \"))"
   ]
  },
  {
   "cell_type": "code",
   "execution_count": 5,
   "id": "f52e690b",
   "metadata": {
    "ExecuteTime": {
     "end_time": "2024-03-23T15:02:51.025726Z",
     "start_time": "2024-03-23T15:02:05.238027Z"
    }
   },
   "outputs": [
    {
     "name": "stdout",
     "output_type": "stream",
     "text": [
      "물어볼 수 : 50\n",
      "UP\n",
      "물어볼 수 : 75\n",
      "DOWN\n",
      "물어볼 수 : 66\n",
      "DOWN\n",
      "물어볼 수 : 57\n",
      "DOWN\n",
      "물어볼 수 : 54\n",
      "DOWN\n",
      "물어볼 수 : 52\n",
      "UP\n",
      "물어볼 수 : 53\n",
      "SAME and WIN\n"
     ]
    },
    {
     "ename": "KeyboardInterrupt",
     "evalue": "Interrupted by user",
     "output_type": "error",
     "traceback": [
      "\u001b[0;31m---------------------------------------------------------------------------\u001b[0m",
      "\u001b[0;31mKeyboardInterrupt\u001b[0m                         Traceback (most recent call last)",
      "Cell \u001b[0;32mIn[5], line 4\u001b[0m\n\u001b[1;32m      1\u001b[0m t \u001b[38;5;241m=\u001b[39m \u001b[38;5;241m0\u001b[39m\n\u001b[1;32m      3\u001b[0m \u001b[38;5;28;01mfor\u001b[39;00m i \u001b[38;5;129;01min\u001b[39;00m \u001b[38;5;28mrange\u001b[39m (chance) :\n\u001b[0;32m----> 4\u001b[0m     question \u001b[38;5;241m=\u001b[39m \u001b[38;5;28mint\u001b[39m(\u001b[38;5;28;43minput\u001b[39;49m\u001b[43m(\u001b[49m\u001b[38;5;124;43m\"\u001b[39;49m\u001b[38;5;124;43m물어볼 수 : \u001b[39;49m\u001b[38;5;124;43m\"\u001b[39;49m\u001b[43m)\u001b[49m)\n\u001b[1;32m      6\u001b[0m     \u001b[38;5;28;01mif\u001b[39;00m (question \u001b[38;5;241m<\u001b[39m com) :\n\u001b[1;32m      7\u001b[0m         \u001b[38;5;28mprint\u001b[39m (\u001b[38;5;124m\"\u001b[39m\u001b[38;5;124mUP\u001b[39m\u001b[38;5;124m\"\u001b[39m)\n",
      "File \u001b[0;32m~/Library/Python/3.11/lib/python/site-packages/ipykernel/kernelbase.py:1202\u001b[0m, in \u001b[0;36mKernel.raw_input\u001b[0;34m(self, prompt)\u001b[0m\n\u001b[1;32m   1200\u001b[0m     msg \u001b[38;5;241m=\u001b[39m \u001b[38;5;124m\"\u001b[39m\u001b[38;5;124mraw_input was called, but this frontend does not support input requests.\u001b[39m\u001b[38;5;124m\"\u001b[39m\n\u001b[1;32m   1201\u001b[0m     \u001b[38;5;28;01mraise\u001b[39;00m StdinNotImplementedError(msg)\n\u001b[0;32m-> 1202\u001b[0m \u001b[38;5;28;01mreturn\u001b[39;00m \u001b[38;5;28;43mself\u001b[39;49m\u001b[38;5;241;43m.\u001b[39;49m\u001b[43m_input_request\u001b[49m\u001b[43m(\u001b[49m\n\u001b[1;32m   1203\u001b[0m \u001b[43m    \u001b[49m\u001b[38;5;28;43mstr\u001b[39;49m\u001b[43m(\u001b[49m\u001b[43mprompt\u001b[49m\u001b[43m)\u001b[49m\u001b[43m,\u001b[49m\n\u001b[1;32m   1204\u001b[0m \u001b[43m    \u001b[49m\u001b[38;5;28;43mself\u001b[39;49m\u001b[38;5;241;43m.\u001b[39;49m\u001b[43m_parent_ident\u001b[49m\u001b[43m[\u001b[49m\u001b[38;5;124;43m\"\u001b[39;49m\u001b[38;5;124;43mshell\u001b[39;49m\u001b[38;5;124;43m\"\u001b[39;49m\u001b[43m]\u001b[49m\u001b[43m,\u001b[49m\n\u001b[1;32m   1205\u001b[0m \u001b[43m    \u001b[49m\u001b[38;5;28;43mself\u001b[39;49m\u001b[38;5;241;43m.\u001b[39;49m\u001b[43mget_parent\u001b[49m\u001b[43m(\u001b[49m\u001b[38;5;124;43m\"\u001b[39;49m\u001b[38;5;124;43mshell\u001b[39;49m\u001b[38;5;124;43m\"\u001b[39;49m\u001b[43m)\u001b[49m\u001b[43m,\u001b[49m\n\u001b[1;32m   1206\u001b[0m \u001b[43m    \u001b[49m\u001b[43mpassword\u001b[49m\u001b[38;5;241;43m=\u001b[39;49m\u001b[38;5;28;43;01mFalse\u001b[39;49;00m\u001b[43m,\u001b[49m\n\u001b[1;32m   1207\u001b[0m \u001b[43m\u001b[49m\u001b[43m)\u001b[49m\n",
      "File \u001b[0;32m~/Library/Python/3.11/lib/python/site-packages/ipykernel/kernelbase.py:1245\u001b[0m, in \u001b[0;36mKernel._input_request\u001b[0;34m(self, prompt, ident, parent, password)\u001b[0m\n\u001b[1;32m   1242\u001b[0m \u001b[38;5;28;01mexcept\u001b[39;00m \u001b[38;5;167;01mKeyboardInterrupt\u001b[39;00m:\n\u001b[1;32m   1243\u001b[0m     \u001b[38;5;66;03m# re-raise KeyboardInterrupt, to truncate traceback\u001b[39;00m\n\u001b[1;32m   1244\u001b[0m     msg \u001b[38;5;241m=\u001b[39m \u001b[38;5;124m\"\u001b[39m\u001b[38;5;124mInterrupted by user\u001b[39m\u001b[38;5;124m\"\u001b[39m\n\u001b[0;32m-> 1245\u001b[0m     \u001b[38;5;28;01mraise\u001b[39;00m \u001b[38;5;167;01mKeyboardInterrupt\u001b[39;00m(msg) \u001b[38;5;28;01mfrom\u001b[39;00m \u001b[38;5;28;01mNone\u001b[39;00m\n\u001b[1;32m   1246\u001b[0m \u001b[38;5;28;01mexcept\u001b[39;00m \u001b[38;5;167;01mException\u001b[39;00m:\n\u001b[1;32m   1247\u001b[0m     \u001b[38;5;28mself\u001b[39m\u001b[38;5;241m.\u001b[39mlog\u001b[38;5;241m.\u001b[39mwarning(\u001b[38;5;124m\"\u001b[39m\u001b[38;5;124mInvalid Message:\u001b[39m\u001b[38;5;124m\"\u001b[39m, exc_info\u001b[38;5;241m=\u001b[39m\u001b[38;5;28;01mTrue\u001b[39;00m)\n",
      "\u001b[0;31mKeyboardInterrupt\u001b[0m: Interrupted by user"
     ]
    }
   ],
   "source": [
    "t = 0\n",
    "\n",
    "for i in range (chance) :\n",
    "    question = int(input(\"물어볼 수 : \"))\n",
    "    \n",
    "    if (question < com) :\n",
    "        print (\"UP\")\n",
    "        \n",
    "    elif (question > com) :\n",
    "        print (\"DOWN\")\n",
    "        \n",
    "    else :\n",
    "        print (\"SAME and WIN\")\n",
    "        t = 1\n",
    "\n",
    "if t != 1 :\n",
    "    print (\"LOSE\")"
   ]
  },
  {
   "cell_type": "markdown",
   "id": "2ee00609",
   "metadata": {},
   "source": [
    "-----"
   ]
  },
  {
   "cell_type": "markdown",
   "id": "c74637cc",
   "metadata": {},
   "source": [
    "###### 서버 프로그래밍\n",
    "- 특정 유저 (클라이언트)에게 데이터를 요청받고, 그 데이터를 관리하면서 서비스를 하는 것 : 서버\n",
    "- API : 클라이언트에게로부터 받은 데이터를 어떻게 처리/관리/삭제/업데이트..."
   ]
  }
 ],
 "metadata": {
  "kernelspec": {
   "display_name": "Python 3 (ipykernel)",
   "language": "python",
   "name": "python3"
  },
  "language_info": {
   "codemirror_mode": {
    "name": "ipython",
    "version": 3
   },
   "file_extension": ".py",
   "mimetype": "text/x-python",
   "name": "python",
   "nbconvert_exporter": "python",
   "pygments_lexer": "ipython3",
   "version": "3.11.6"
  }
 },
 "nbformat": 4,
 "nbformat_minor": 5
}
