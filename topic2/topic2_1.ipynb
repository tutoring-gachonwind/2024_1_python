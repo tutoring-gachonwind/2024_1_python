{
 "cells": [
  {
   "cell_type": "markdown",
   "id": "03f1dc68",
   "metadata": {},
   "source": [
    "### topic2_1 : 파이썬 튜터링 2주차 - 1\n",
    "#### 파이썬 웜업 (입출력, 리스트, 딕셔너리, 변수, 제어, 반복)"
   ]
  },
  {
   "cell_type": "markdown",
   "id": "bb6b60b9",
   "metadata": {},
   "source": [
    "------"
   ]
  },
  {
   "cell_type": "markdown",
   "id": "dd250a43",
   "metadata": {},
   "source": [
    "#### 입출력\n",
    "- 입력 : input, sys.stdin.readline()\n",
    "- 출력 : print\n",
    "- 입출력의 목적 : 데이터를 얻고 가공하고 출력\n",
    "    - 예시 : A, B를 더하고 싶다 (A, B : 데이터)\n",
    "    - 프로그램의 구성 : 입력, 가공, 출력 (input, process, output)\n"
   ]
  },
  {
   "cell_type": "code",
   "execution_count": 7,
   "id": "b57a5713",
   "metadata": {
    "ExecuteTime": {
     "end_time": "2024-03-23T12:54:06.143514Z",
     "start_time": "2024-03-23T12:54:03.175819Z"
    }
   },
   "outputs": [
    {
     "name": "stdout",
     "output_type": "stream",
     "text": [
      "A를 입력하세요 : 1\n",
      "B를 입력하세요 : 2\n"
     ]
    }
   ],
   "source": [
    "A = int(input(\"A를 입력하세요 : \"))\n",
    "B = int(input(\"B를 입력하세요 : \"))"
   ]
  },
  {
   "cell_type": "code",
   "execution_count": 8,
   "id": "4150b346",
   "metadata": {
    "ExecuteTime": {
     "end_time": "2024-03-23T12:54:30.474506Z",
     "start_time": "2024-03-23T12:54:30.472108Z"
    }
   },
   "outputs": [],
   "source": [
    "C = A + B"
   ]
  },
  {
   "cell_type": "code",
   "execution_count": 9,
   "id": "4ea2a871",
   "metadata": {
    "ExecuteTime": {
     "end_time": "2024-03-23T12:54:41.691659Z",
     "start_time": "2024-03-23T12:54:41.688690Z"
    }
   },
   "outputs": [
    {
     "name": "stdout",
     "output_type": "stream",
     "text": [
      "3\n"
     ]
    }
   ],
   "source": [
    "print (C)"
   ]
  },
  {
   "cell_type": "markdown",
   "id": "81ecf2c2",
   "metadata": {},
   "source": [
    "-----"
   ]
  },
  {
   "cell_type": "markdown",
   "id": "b69ac130",
   "metadata": {},
   "source": [
    "#### 리스트\n",
    "- 데이터를 넣을 수 있는 곳\n",
    "- 데이터의 형태를 제한하지 않는다\n",
    "    - lst = ['a', 1, 2, \"absdfasdfad\"]\n",
    "- 데이터를 보관할 때 (2개 이상, 같은 목적을 가질 때) "
   ]
  },
  {
   "cell_type": "code",
   "execution_count": 10,
   "id": "b345812a",
   "metadata": {
    "ExecuteTime": {
     "end_time": "2024-03-23T12:59:40.927560Z",
     "start_time": "2024-03-23T12:59:40.923378Z"
    }
   },
   "outputs": [
    {
     "name": "stdout",
     "output_type": "stream",
     "text": [
      "[1, 3, 5, 7, 9]\n"
     ]
    }
   ],
   "source": [
    "lst = []\n",
    "\n",
    "for i in range (10) :\n",
    "    if i % 2 != 0 : # i를 2로 나누었을 때 나머지가 0이 아닐 때 == 홀수\n",
    "        lst.append (i)\n",
    "        \n",
    "print (lst)"
   ]
  },
  {
   "cell_type": "code",
   "execution_count": 11,
   "id": "927c6de5",
   "metadata": {
    "ExecuteTime": {
     "end_time": "2024-03-23T13:01:04.629208Z",
     "start_time": "2024-03-23T13:01:04.625715Z"
    }
   },
   "outputs": [
    {
     "name": "stdout",
     "output_type": "stream",
     "text": [
      "[0, 2, 4, 6, 8]\n"
     ]
    }
   ],
   "source": [
    "lst = []\n",
    "\n",
    "for i in range (10) :\n",
    "    if i % 2 == 0 : # i를 2로 나누었을 때 나머지가 0 == 짝수\n",
    "        lst.append (i)\n",
    "        \n",
    "print (lst)"
   ]
  },
  {
   "cell_type": "markdown",
   "id": "6d4f6782",
   "metadata": {},
   "source": [
    "--------"
   ]
  },
  {
   "cell_type": "markdown",
   "id": "6ff27d8b",
   "metadata": {},
   "source": [
    "#### 딕셔너리\n",
    "- 사전\n",
    "    - 파치리스 : ~~~~~~~~~~ 귀엽다. 다람쥐다. 전기타입.\n",
    "    - key : value\n",
    "- 특정 변수에 해당되는 특정 데이터를 알고 싶을 때 (사전)\n",
    "    - 해시 "
   ]
  },
  {
   "cell_type": "code",
   "execution_count": 13,
   "id": "a4bebd36",
   "metadata": {
    "ExecuteTime": {
     "end_time": "2024-03-23T13:03:14.724007Z",
     "start_time": "2024-03-23T13:03:14.721410Z"
    }
   },
   "outputs": [],
   "source": [
    "dicta = {}"
   ]
  },
  {
   "cell_type": "code",
   "execution_count": 14,
   "id": "0b122be7",
   "metadata": {
    "ExecuteTime": {
     "end_time": "2024-03-23T13:03:27.835228Z",
     "start_time": "2024-03-23T13:03:27.832573Z"
    }
   },
   "outputs": [],
   "source": [
    "dicta['pachiritsu'] = \"daramji\""
   ]
  },
  {
   "cell_type": "code",
   "execution_count": 15,
   "id": "225445af",
   "metadata": {
    "ExecuteTime": {
     "end_time": "2024-03-23T13:03:51.076357Z",
     "start_time": "2024-03-23T13:03:51.073336Z"
    }
   },
   "outputs": [
    {
     "name": "stdout",
     "output_type": "stream",
     "text": [
      "{'pachiritsu': 'daramji'}\n"
     ]
    }
   ],
   "source": [
    "print (dicta)"
   ]
  },
  {
   "cell_type": "code",
   "execution_count": 16,
   "id": "2d39fdcc",
   "metadata": {
    "ExecuteTime": {
     "end_time": "2024-03-23T13:04:14.562963Z",
     "start_time": "2024-03-23T13:04:14.560011Z"
    }
   },
   "outputs": [
    {
     "name": "stdout",
     "output_type": "stream",
     "text": [
      "daramji\n"
     ]
    }
   ],
   "source": [
    "print (dicta['pachiritsu'])"
   ]
  },
  {
   "cell_type": "code",
   "execution_count": 17,
   "id": "67bef139",
   "metadata": {
    "ExecuteTime": {
     "end_time": "2024-03-23T13:07:03.439494Z",
     "start_time": "2024-03-23T13:07:03.436108Z"
    }
   },
   "outputs": [
    {
     "name": "stdout",
     "output_type": "stream",
     "text": [
      "1\n",
      "5\n"
     ]
    }
   ],
   "source": [
    "dictb = {'dog' : 1, 'cat' : 2, 'daramji' : 3}\n",
    "\n",
    "print (dictb['dog']) # 1 \n",
    "print (dictb['cat'] + dictb['daramji']) # 2 + 3 == 5"
   ]
  },
  {
   "cell_type": "markdown",
   "id": "19d3a9f3",
   "metadata": {},
   "source": [
    "-----"
   ]
  },
  {
   "cell_type": "markdown",
   "id": "efa2afb4",
   "metadata": {},
   "source": [
    "#### 변수\n",
    "- 변하는 애 (사용자마다 프로그램에 입력할 데이터가 다르기 때문)\n",
    "- 데이터를 넣을 수 있는 특정한 공간"
   ]
  },
  {
   "cell_type": "code",
   "execution_count": 19,
   "id": "fbb16f2b",
   "metadata": {
    "ExecuteTime": {
     "end_time": "2024-03-23T13:11:09.372504Z",
     "start_time": "2024-03-23T13:11:09.369876Z"
    }
   },
   "outputs": [],
   "source": [
    "a = 3 # 대입 연산자\n",
    "# a라고 하는 박스 안에 3이라고 하는 데이터를 대입했다"
   ]
  },
  {
   "cell_type": "code",
   "execution_count": 20,
   "id": "f54d446c",
   "metadata": {
    "ExecuteTime": {
     "end_time": "2024-03-23T13:11:12.206920Z",
     "start_time": "2024-03-23T13:11:12.200660Z"
    }
   },
   "outputs": [
    {
     "data": {
      "text/plain": [
       "True"
      ]
     },
     "execution_count": 20,
     "metadata": {},
     "output_type": "execute_result"
    }
   ],
   "source": [
    "a == 3 # 동등 연산자 (같다)"
   ]
  },
  {
   "cell_type": "code",
   "execution_count": 21,
   "id": "89f0fd88",
   "metadata": {
    "ExecuteTime": {
     "end_time": "2024-03-23T13:13:24.156841Z",
     "start_time": "2024-03-23T13:13:24.153049Z"
    }
   },
   "outputs": [
    {
     "data": {
      "text/plain": [
       "False"
      ]
     },
     "execution_count": 21,
     "metadata": {},
     "output_type": "execute_result"
    }
   ],
   "source": [
    "a == 4"
   ]
  },
  {
   "cell_type": "markdown",
   "id": "21adae09",
   "metadata": {},
   "source": [
    "-----"
   ]
  },
  {
   "cell_type": "markdown",
   "id": "a1b2be38",
   "metadata": {},
   "source": [
    "#### 제어\n",
    "- 조건, 분기\n",
    "    - 조건 (불리언 표현)\n",
    "        - if, elif, else\n",
    "        - 특정 조건에 맞아떨어지면 조건문 안에 있는 코드가 실행\n",
    "            - i == 3이면 A를 실행\n",
    "    - 분기 (문장, 명령어를 제어)\n",
    "        - exit, return, break, continue"
   ]
  },
  {
   "cell_type": "code",
   "execution_count": 22,
   "id": "7f308743",
   "metadata": {
    "ExecuteTime": {
     "end_time": "2024-03-23T13:18:29.878668Z",
     "start_time": "2024-03-23T13:18:29.876066Z"
    }
   },
   "outputs": [],
   "source": [
    "a = 10"
   ]
  },
  {
   "cell_type": "code",
   "execution_count": 23,
   "id": "c5af26be",
   "metadata": {
    "ExecuteTime": {
     "end_time": "2024-03-23T13:20:56.767954Z",
     "start_time": "2024-03-23T13:20:56.764387Z"
    }
   },
   "outputs": [
    {
     "name": "stdout",
     "output_type": "stream",
     "text": [
      "a가 11보다 작거나 같다\n"
     ]
    }
   ],
   "source": [
    "if (a <= 11) :\n",
    "    print (\"a가 11보다 작거나 같다\")\n",
    "    \n",
    "elif (a == 9) :\n",
    "    print (\"a는 9다\")\n",
    "    \n",
    "else :\n",
    "    print (\"a는 11보다 크며, a는 9가 아니다\")"
   ]
  },
  {
   "cell_type": "code",
   "execution_count": 24,
   "id": "23df92c6",
   "metadata": {
    "ExecuteTime": {
     "end_time": "2024-03-23T13:24:44.995974Z",
     "start_time": "2024-03-23T13:24:44.992519Z"
    }
   },
   "outputs": [
    {
     "name": "stdout",
     "output_type": "stream",
     "text": [
      "user가 이겼습니다\n"
     ]
    }
   ],
   "source": [
    "user = '가위'\n",
    "you = '보'\n",
    "\n",
    "if ((user == \"가위\" and you == \"보\") or (user == \"보\" and you == \"주먹\") or (user == \"주먹\" and you == \"가위\")) :\n",
    "    print (\"user가 이겼습니다\")\n",
    "\n",
    "else :\n",
    "    print (\"user가 졌습니다\")\n"
   ]
  },
  {
   "cell_type": "markdown",
   "id": "4f8f5abf",
   "metadata": {},
   "source": [
    "--------"
   ]
  },
  {
   "cell_type": "markdown",
   "id": "181a6ca0",
   "metadata": {},
   "source": [
    "#### 반복\n",
    "- while, for\n",
    "- 조건\n",
    "- 조건문 and iteration (반복, 순회)"
   ]
  },
  {
   "cell_type": "code",
   "execution_count": 25,
   "id": "f77f1548",
   "metadata": {
    "ExecuteTime": {
     "end_time": "2024-03-23T13:27:19.165773Z",
     "start_time": "2024-03-23T13:27:19.162731Z"
    }
   },
   "outputs": [
    {
     "name": "stdout",
     "output_type": "stream",
     "text": [
      "hello\n",
      "hello\n",
      "hello\n",
      "hello\n",
      "hello\n"
     ]
    }
   ],
   "source": [
    "for i in range (5) :\n",
    "    print (\"hello\")"
   ]
  },
  {
   "cell_type": "code",
   "execution_count": 26,
   "id": "83f67235",
   "metadata": {
    "ExecuteTime": {
     "end_time": "2024-03-23T13:28:54.987932Z",
     "start_time": "2024-03-23T13:28:54.984764Z"
    }
   },
   "outputs": [
    {
     "name": "stdout",
     "output_type": "stream",
     "text": [
      "hello\n",
      "hello\n",
      "hello\n",
      "hello\n"
     ]
    }
   ],
   "source": [
    "i = 0\n",
    "\n",
    "while i != 4 :\n",
    "    print (\"hello\")\n",
    "    i += 1"
   ]
  }
 ],
 "metadata": {
  "kernelspec": {
   "display_name": "Python 3 (ipykernel)",
   "language": "python",
   "name": "python3"
  },
  "language_info": {
   "codemirror_mode": {
    "name": "ipython",
    "version": 3
   },
   "file_extension": ".py",
   "mimetype": "text/x-python",
   "name": "python",
   "nbconvert_exporter": "python",
   "pygments_lexer": "ipython3",
   "version": "3.11.6"
  }
 },
 "nbformat": 4,
 "nbformat_minor": 5
}
