{
 "cells": [
  {
   "cell_type": "markdown",
   "id": "03f1dc68",
   "metadata": {},
   "source": [
    "### topic2_5 : 파이썬 튜터링 2주차 - 5\n",
    "#### 미니프로젝트 4. 미친 거북이"
   ]
  },
  {
   "cell_type": "markdown",
   "id": "f827e54a",
   "metadata": {},
   "source": [
    "--------"
   ]
  },
  {
   "cell_type": "markdown",
   "id": "4ec38e82",
   "metadata": {},
   "source": [
    "##### pseudo code\n",
    "\n",
    "- 정삼각형의 갯수 입력\n",
    "- 거북이가 랜덤한 위치에서 랜덤한 크기로 정삼각형을 그릴거임 (삼각형 갯수만큼)\n",
    "    - 정삼각형 갯수만큼 반복\n",
    "        - 랜덤한 위치, 랜덤한 크기\n",
    "            - 정삼각형 그리기 "
   ]
  },
  {
   "cell_type": "code",
   "execution_count": 1,
   "id": "d2b311ea",
   "metadata": {
    "ExecuteTime": {
     "end_time": "2024-03-24T06:46:19.269092Z",
     "start_time": "2024-03-24T06:46:18.755748Z"
    }
   },
   "outputs": [
    {
     "name": "stderr",
     "output_type": "stream",
     "text": [
      "2024-03-24 15:46:18.899 Python[44621:2960677] WARNING: Secure coding is not enabled for restorable state! Enable secure coding by implementing NSApplicationDelegate.applicationSupportsSecureRestorableState: and returning YES.\n"
     ]
    }
   ],
   "source": [
    "import random\n",
    "import turtle\n",
    "turtle.speed(10)"
   ]
  },
  {
   "cell_type": "code",
   "execution_count": 2,
   "id": "ac25f7d5",
   "metadata": {
    "ExecuteTime": {
     "end_time": "2024-03-24T06:46:23.546715Z",
     "start_time": "2024-03-24T06:46:22.029904Z"
    }
   },
   "outputs": [
    {
     "name": "stdout",
     "output_type": "stream",
     "text": [
      "정삼각형의 갯수 : 50\n"
     ]
    }
   ],
   "source": [
    "num_triangle = int(input(\"정삼각형의 갯수 : \"))"
   ]
  },
  {
   "cell_type": "code",
   "execution_count": null,
   "id": "971d179f",
   "metadata": {
    "ExecuteTime": {
     "start_time": "2024-03-24T06:46:24.606Z"
    }
   },
   "outputs": [],
   "source": [
    "for i in range (num_triangle) :\n",
    "    position_x = random.randint(-200, 200)\n",
    "    position_y = random.randint(-200, 200)\n",
    "    \n",
    "    length = random.randint (10, 100)\n",
    "    \n",
    "    for i in range (3) :\n",
    "        turtle.forward(length)\n",
    "        turtle.left(360 / 3) \n",
    "    \n",
    "    turtle.penup()\n",
    "    turtle.goto (position_x, position_y)\n",
    "    turtle.pendown()"
   ]
  },
  {
   "cell_type": "markdown",
   "id": "970c4de3",
   "metadata": {},
   "source": [
    "---------"
   ]
  },
  {
   "cell_type": "markdown",
   "id": "928ef545",
   "metadata": {},
   "source": [
    "1) 묵찌빠 구현 (pseudo code / source code)\n",
    "2) 정n각형 출력기의 기능 추가하기 & 색깔 랜덤"
   ]
  }
 ],
 "metadata": {
  "kernelspec": {
   "display_name": "Python 3 (ipykernel)",
   "language": "python",
   "name": "python3"
  },
  "language_info": {
   "codemirror_mode": {
    "name": "ipython",
    "version": 3
   },
   "file_extension": ".py",
   "mimetype": "text/x-python",
   "name": "python",
   "nbconvert_exporter": "python",
   "pygments_lexer": "ipython3",
   "version": "3.11.6"
  }
 },
 "nbformat": 4,
 "nbformat_minor": 5
}
