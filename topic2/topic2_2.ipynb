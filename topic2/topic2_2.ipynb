{
 "cells": [
  {
   "cell_type": "markdown",
   "id": "11d82cfb",
   "metadata": {},
   "source": [
    "### topic2_1 : 파이썬 튜터링 2주차 - 2\n",
    "### 미니프로젝트 1. 가위 바위 보"
   ]
  },
  {
   "cell_type": "markdown",
   "id": "b269eef5",
   "metadata": {},
   "source": [
    "조건문, 반복문, 분기, 변수, 배열..."
   ]
  },
  {
   "cell_type": "markdown",
   "id": "6a3b2bcf",
   "metadata": {},
   "source": [
    "------"
   ]
  },
  {
   "cell_type": "markdown",
   "id": "c3cadc5d",
   "metadata": {},
   "source": [
    "#### pseudo code\n",
    "\n",
    "A, B가 가위바위보를 함\n",
    "- A가 낸 거랑 B가 낸게 같다 : 가위바위보를 한번 더 한다\n",
    "- A가 낸 거랑 B가 낸게 같지 않다 : 승패 결정\n",
    "    - A가 가위\n",
    "        - B가 주먹 : B\n",
    "        - B가 보 : A\n",
    "    - A가 주먹 \n",
    "        - B가 가위 : A\n",
    "        - B가 보 : B\n",
    "    - A가 보 \n",
    "        - B가 가위 : B\n",
    "        - B가 바위 : A\n",
    "    \n",
    "    마지막 : 누가 이겼는지를 출력"
   ]
  },
  {
   "cell_type": "code",
   "execution_count": 7,
   "id": "11e26422",
   "metadata": {
    "ExecuteTime": {
     "end_time": "2024-03-23T14:22:56.164191Z",
     "start_time": "2024-03-23T14:22:53.163827Z"
    }
   },
   "outputs": [
    {
     "name": "stdout",
     "output_type": "stream",
     "text": [
      "A가 가위바위보에서 낸 것을 작성 : 바위\n",
      "B가 가위바위보에서 낸 것을 작성 : 보\n"
     ]
    }
   ],
   "source": [
    "while True :\n",
    "    # A가 낸 거 != B가 낸 거 : 반복문 탈출\n",
    "    A = input(\"A가 가위바위보에서 낸 것을 작성 : \")\n",
    "    B = input(\"B가 가위바위보에서 낸 것을 작성 : \")\n",
    "    \n",
    "    if (A == B) :\n",
    "        pass # 그냥 시행\n",
    "    \n",
    "    else :\n",
    "        break # 반복문 탈출"
   ]
  },
  {
   "cell_type": "code",
   "execution_count": 4,
   "id": "61f76b82",
   "metadata": {
    "ExecuteTime": {
     "end_time": "2024-03-23T14:11:59.248569Z",
     "start_time": "2024-03-23T14:11:59.244096Z"
    }
   },
   "outputs": [
    {
     "name": "stdout",
     "output_type": "stream",
     "text": [
      "A가 이김\n"
     ]
    }
   ],
   "source": [
    "if (A == \"가위\") :\n",
    "    if (B == \"바위\") :\n",
    "        print (\"B가 이김\")\n",
    "        \n",
    "    elif (B == \"보\") :\n",
    "        print (\"A가 이김\")\n",
    "    \n",
    "elif (A == \"바위\") :\n",
    "    if (B == \"가위\") :\n",
    "        print (\"A가 이김\")\n",
    "        \n",
    "    elif (B == \"보\") :\n",
    "        print (\"B가 이김\")\n",
    "    \n",
    "else :\n",
    "    if (B == \"가위\") :\n",
    "        print (\"B가 이김\")\n",
    "        \n",
    "    elif (B == \"바위\") :\n",
    "        print (\"A가 이김\")"
   ]
  },
  {
   "cell_type": "markdown",
   "id": "0722e619",
   "metadata": {},
   "source": [
    "#### nested condition (조건문이 중첩) -> and, or 논리 연산자로 간단히 바꾸어주는 것 (refactoring)"
   ]
  },
  {
   "cell_type": "markdown",
   "id": "f2d3f3d6",
   "metadata": {},
   "source": [
    "- and \n",
    "    - A and B : A랑 B가 둘 다 참일 때 참\n",
    "    - 1 == 1 and 1 != 0 : True\n",
    "    - 1 == 0 and 1 == 1 : False\n",
    "    \n",
    "- or\n",
    "    - A or B : A랑 B 둘 중에 하나 이상 참이면 참\n",
    "    - 1 == 1 or 1 != 0 : True\n",
    "    - 1 == 0 or 1 == 1 : True"
   ]
  },
  {
   "cell_type": "code",
   "execution_count": 6,
   "id": "9442ec51",
   "metadata": {
    "ExecuteTime": {
     "end_time": "2024-03-23T14:19:49.313366Z",
     "start_time": "2024-03-23T14:19:49.308810Z"
    }
   },
   "outputs": [
    {
     "name": "stdout",
     "output_type": "stream",
     "text": [
      "B가 이김\n"
     ]
    }
   ],
   "source": [
    "if (A == \"가위\" and B == \"바위\") :\n",
    "    print (\"B가 이김\")\n",
    "\n",
    "elif (A == \"가위\" and B == \"보\") : \n",
    "    print (\"A가 이김\")\n",
    "    \n",
    "elif (A == \"바위\" and B == \"가위\") : \n",
    "    print (\"A가 이김\")\n",
    "    \n",
    "elif (A == \"바위\" and B == \"보\") : \n",
    "    print (\"B가 이김\")\n",
    "    \n",
    "elif (A == \"보\" and B == \"가위\") : \n",
    "    print (\"B가 이김\")\n",
    "    \n",
    "elif (A == \"보\" and B == \"바위\") : \n",
    "    print (\"A가 이김\")"
   ]
  },
  {
   "cell_type": "code",
   "execution_count": 8,
   "id": "301ecea2",
   "metadata": {
    "ExecuteTime": {
     "end_time": "2024-03-23T14:23:00.896511Z",
     "start_time": "2024-03-23T14:23:00.892562Z"
    }
   },
   "outputs": [
    {
     "name": "stdout",
     "output_type": "stream",
     "text": [
      "B가 이김\n"
     ]
    }
   ],
   "source": [
    "if ((A == \"가위\" and B == \"바위\") or (A == \"바위\" and B == \"보\") or (A == \"보\" and B == \"가위\")) : \n",
    "    print (\"B가 이김\")\n",
    "    \n",
    "else :\n",
    "    print (\"A가 이김\")"
   ]
  }
 ],
 "metadata": {
  "kernelspec": {
   "display_name": "Python 3 (ipykernel)",
   "language": "python",
   "name": "python3"
  },
  "language_info": {
   "codemirror_mode": {
    "name": "ipython",
    "version": 3
   },
   "file_extension": ".py",
   "mimetype": "text/x-python",
   "name": "python",
   "nbconvert_exporter": "python",
   "pygments_lexer": "ipython3",
   "version": "3.11.6"
  }
 },
 "nbformat": 4,
 "nbformat_minor": 5
}
